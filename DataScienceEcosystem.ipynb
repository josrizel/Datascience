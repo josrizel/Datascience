{
 "cells": [
  {
   "cell_type": "markdown",
   "id": "f19acda8-cf09-45e1-92e2-2328e2ebdb78",
   "metadata": {},
   "source": [
    "# Data Science Tools and Ecosystem"
   ]
  },
  {
   "cell_type": "markdown",
   "id": "fb54cbc7-ccc7-490a-8bd6-eb0e6d5151ea",
   "metadata": {},
   "source": [
    "## Author\n",
    "Prajakta Sutar"
   ]
  },
  {
   "cell_type": "markdown",
   "id": "a8dfa934-4105-41f8-9a70-6896726560ce",
   "metadata": {},
   "source": [
    "In this notebook, Data Science Tools and Ecosystem are summarized."
   ]
  },
  {
   "cell_type": "markdown",
   "id": "48623928-7e2f-43b8-9581-3c6c0853271b",
   "metadata": {},
   "source": [
    "**Objectives:**\n",
    "+ List popular languages for Data Science \n",
    "+ List development environment open source tools for Data Science\n",
    "+ List popular libraries for Data Science\n",
    "+ Arithmetic expression examples"
   ]
  },
  {
   "cell_type": "markdown",
   "id": "93cfbd24-1c3f-4f4f-a79c-fe38ad30dafa",
   "metadata": {},
   "source": [
    "Some of the popular languages that Data Scientists use are:\n",
    "1. Python \n",
    "2. R\n",
    "3. Java\n",
    "4. SQL\n",
    "5. Scala "
   ]
  },
  {
   "cell_type": "markdown",
   "id": "dd9f1e75-3c68-40a6-acba-9d39b81978c1",
   "metadata": {},
   "source": [
    "Some of the commonly used libraries used by Data Scientists include:\n",
    "1. Pandas\n",
    "2. NumPy\n",
    "3. Seaborn\n",
    "4. Matplotlib"
   ]
  },
  {
   "cell_type": "markdown",
   "id": "f4f5691d-4a77-4fa0-a986-017e02f737b5",
   "metadata": {},
   "source": [
    "|Data Science Tools|\n",
    "|-------------------|\n",
    "|jupyter|\n",
    "|RStudio|\n",
    "|Apache Zeppelin|"
   ]
  },
  {
   "cell_type": "markdown",
   "id": "932f29ac-cc8b-4e61-a878-a0095fd2a5c5",
   "metadata": {},
   "source": [
    "### Below are a few examples of evaluating arithmetic expressions in Python"
   ]
  },
  {
   "cell_type": "code",
   "execution_count": 3,
   "id": "89e95e98-8b44-4059-b9e6-2740234f8390",
   "metadata": {
    "tags": []
   },
   "outputs": [
    {
     "data": {
      "text/plain": [
       "17"
      ]
     },
     "execution_count": 3,
     "metadata": {},
     "output_type": "execute_result"
    }
   ],
   "source": [
    "# This a simple arithmetic expression to multiply then add integers.\n",
    "(3*4)+5"
   ]
  },
  {
   "cell_type": "code",
   "execution_count": 4,
   "id": "6d22e9fd-f7e3-4a55-8e83-a6c61210e970",
   "metadata": {
    "tags": []
   },
   "outputs": [
    {
     "data": {
      "text/plain": [
       "3.3333333333333335"
      ]
     },
     "execution_count": 4,
     "metadata": {},
     "output_type": "execute_result"
    }
   ],
   "source": [
    "# This will convert 200 minutes to hours by dividing by 60.\n",
    "200/60"
   ]
  },
  {
   "cell_type": "markdown",
   "id": "5c1e66c6-6f6e-46c5-831c-f558af20f550",
   "metadata": {},
   "source": []
  }
 ],
 "metadata": {
  "kernelspec": {
   "display_name": "Python",
   "language": "python",
   "name": "conda-env-python-py"
  },
  "language_info": {
   "codemirror_mode": {
    "name": "ipython",
    "version": 3
   },
   "file_extension": ".py",
   "mimetype": "text/x-python",
   "name": "python",
   "nbconvert_exporter": "python",
   "pygments_lexer": "ipython3",
   "version": "3.7.12"
  }
 },
 "nbformat": 4,
 "nbformat_minor": 5
}
